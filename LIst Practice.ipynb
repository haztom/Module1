{
  "nbformat": 4,
  "nbformat_minor": 0,
  "metadata": {
    "colab": {
      "provenance": [],
      "authorship_tag": "ABX9TyMVapIWl30KDln6N0fiWXnC",
      "include_colab_link": true
    },
    "kernelspec": {
      "name": "python3",
      "display_name": "Python 3"
    },
    "language_info": {
      "name": "python"
    }
  },
  "cells": [
    {
      "cell_type": "markdown",
      "metadata": {
        "id": "view-in-github",
        "colab_type": "text"
      },
      "source": [
        "<a href=\"https://colab.research.google.com/github/haztom/Module1/blob/main/LIst%20Practice.ipynb\" target=\"_parent\"><img src=\"https://colab.research.google.com/assets/colab-badge.svg\" alt=\"Open In Colab\"/></a>"
      ]
    },
    {
      "cell_type": "code",
      "source": [
        "# create a list called 'my_list' with elements 'John', 'Emma', 10, 5, 3, 'Daniel', 'Tom', 34, 30\n",
        "\n",
        "my_list= ['John', 'Emma', 10, 5, 3, 'Daniel', 'Tom', 34, 30]\n",
        "print (my_list)\n",
        "\n",
        "# how many elements my_list has ?\n",
        "print (\"how many elements?\")\n",
        "print (\"My_list has\", len (my_list), \"elements\")\n",
        "\n",
        "# append 'Bill' to the list and check now its length\n",
        "print (\"append 'Bill' and check length\")\n",
        "my_list.append (\"Bill\")\n",
        "print (my_list)\n",
        "print (\"My_list has\", len (my_list), \"elements\")\n",
        "\n",
        "# return 'John'\n",
        "print (\"Return 'John'\")\n",
        "print (my_list [0])\n",
        "\n",
        "# return 'Bill'\n",
        "print (\"Return 'Bill'\")\n",
        "print (my_list [-1])\n",
        "\n",
        "# return 34\n",
        "print (\"Return '34'\")\n",
        "print (my_list [-3])\n",
        "\n",
        "# return John and Emma\n",
        "print (\"Return 'John' and 'Emma'\")\n",
        "print (my_list [:2])\n",
        "\n",
        "# return Emma, 10, 5\n",
        "print (\"Return 'Emma, 10, 5'\")\n",
        "print (my_list [1:4])\n",
        "\n",
        "# return Tom, 34, 30, Bill\n",
        "print (\"Return 'Tom, 34, 40, Bill'\")\n",
        "print (my_list[6:])\n",
        "\n",
        "# insert an element 'Julia' in the list at 2nd position\n",
        "print (\"Insert 'Julia' at position 2\")\n",
        "my_list.insert (1, \"Julia\")\n",
        "print (my_list)\n",
        "\n",
        "# insert an element 'Anna\" in the list before 30\n",
        "print (\"Insert 'Anna' before '30'\")\n",
        "my_list.insert (-2, \"Anna\")\n",
        "print (my_list)\n",
        "\n",
        "# remove element 'Emma' (2 ways to remove it)\n",
        "print (\"Remove 'Emma' with 'remove'\")\n",
        "my_list = ['John', 'Julia', 'Emma', 10, 5, 3, 'Daniel', 'Tom', 34, 'Anna', 30, 'Bill']\n",
        "my_list.remove(\"Emma\")\n",
        "print (my_list)\n",
        "\n",
        "## OR \n",
        "print (\"Remove 'Emma' with 'pop'\")\n",
        "my_list = ['John', 'Julia', 'Emma', 10, 5, 3, 'Daniel', 'Tom', 34, 'Anna', 30, 'Bill']\n",
        "my_list.pop(2)\n",
        "print (my_list)\n",
        "\n",
        "# append a new list [Sarah, 42, Jerry] ==> to obtain a nested list\n",
        "print(\"Append 'Sarah, 42, Jerry' to create a nested list\")\n",
        "my_list.append([\"Sarah\", 42, \"Jerry\"])\n",
        "print (my_list)\n",
        "\n",
        "# return 'Sarah'\n",
        "print (\"Return 'Sarah'\")\n",
        "print (my_list [-1][0])"
      ],
      "metadata": {
        "colab": {
          "base_uri": "https://localhost:8080/"
        },
        "id": "faJc_-ECU4Or",
        "outputId": "652923ed-5df6-4a1b-f7ca-dac69cea26b0"
      },
      "execution_count": 62,
      "outputs": [
        {
          "output_type": "stream",
          "name": "stdout",
          "text": [
            "['John', 'Emma', 10, 5, 3, 'Daniel', 'Tom', 34, 30]\n",
            "how many elements?\n",
            "My_list has 9 elements\n",
            "append 'Bill' and check length\n",
            "['John', 'Emma', 10, 5, 3, 'Daniel', 'Tom', 34, 30, 'Bill']\n",
            "My_list has 10 elements\n",
            "Return 'John'\n",
            "John\n",
            "Return 'Bill'\n",
            "Bill\n",
            "Return '34'\n",
            "34\n",
            "Return 'John' and 'Emma'\n",
            "['John', 'Emma']\n",
            "Return 'Emma, 10, 5'\n",
            "['Emma', 10, 5]\n",
            "Return 'Tom, 34, 40, Bill'\n",
            "['Tom', 34, 30, 'Bill']\n",
            "Insert 'Julia' at position 2\n",
            "['John', 'Julia', 'Emma', 10, 5, 3, 'Daniel', 'Tom', 34, 30, 'Bill']\n",
            "Insert 'Anna' before '30'\n",
            "['John', 'Julia', 'Emma', 10, 5, 3, 'Daniel', 'Tom', 34, 'Anna', 30, 'Bill']\n",
            "Remove 'Emma' with 'remove'\n",
            "['John', 'Julia', 10, 5, 3, 'Daniel', 'Tom', 34, 'Anna', 30, 'Bill']\n",
            "Remove 'Emma' with 'pop'\n",
            "['John', 'Julia', 10, 5, 3, 'Daniel', 'Tom', 34, 'Anna', 30, 'Bill']\n",
            "Append 'Sarah, 42, Jerry' to create a nested list\n",
            "['John', 'Julia', 10, 5, 3, 'Daniel', 'Tom', 34, 'Anna', 30, 'Bill', ['Sarah', 42, 'Jerry']]\n",
            "Return 'Sarah'\n",
            "Sarah\n"
          ]
        }
      ]
    }
  ]
}