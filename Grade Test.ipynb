{
  "nbformat": 4,
  "nbformat_minor": 0,
  "metadata": {
    "colab": {
      "provenance": [],
      "authorship_tag": "ABX9TyOZWDXQWY/fwzdLblY9EYHP",
      "include_colab_link": true
    },
    "kernelspec": {
      "name": "python3",
      "display_name": "Python 3"
    },
    "language_info": {
      "name": "python"
    }
  },
  "cells": [
    {
      "cell_type": "markdown",
      "metadata": {
        "id": "view-in-github",
        "colab_type": "text"
      },
      "source": [
        "<a href=\"https://colab.research.google.com/github/haztom/Module1/blob/main/Grade%20Test.ipynb\" target=\"_parent\"><img src=\"https://colab.research.google.com/assets/colab-badge.svg\" alt=\"Open In Colab\"/></a>"
      ]
    },
    {
      "cell_type": "code",
      "execution_count": 8,
      "metadata": {
        "colab": {
          "base_uri": "https://localhost:8080/"
        },
        "id": "A6qvqAddGLQO",
        "outputId": "72e624e8-61d3-4892-cdfc-5bedca8c04c2"
      },
      "outputs": [
        {
          "output_type": "stream",
          "name": "stdout",
          "text": [
            "Your Grade is  10\n",
            "You Excelled\n"
          ]
        }
      ],
      "source": [
        "import random\n",
        "Grade = random.randint (0,10)\n",
        "\n",
        "print (\"Your Grade is \", Grade)\n",
        "if Grade < 5:\n",
        "    print (\"You failed\")\n",
        "elif Grade >=5 and Grade <8:  # We don't need to put >= 5 here - we already know that because of the previous if statement\n",
        "    print (\"You passed\")\n",
        "else:\n",
        "    print (\"You Excelled\")"
      ]
    }
  ]
}